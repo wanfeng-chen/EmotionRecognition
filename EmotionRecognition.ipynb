{
 "cells": [
  {
   "cell_type": "code",
   "execution_count": 1,
   "id": "d4fda5a8",
   "metadata": {},
   "outputs": [],
   "source": [
    "# 导入必要的库\n",
    "import torch # PyTorch深度学习框架\n",
    "import torch.nn as nn # PyTorch深度学习框架中的神经网络模块\n",
    "import torch.optim as optim # PyTorch深度学习框架中的优化器模块\n",
    "import torch.nn.functional as F # PyTorch深度学习框架中的函数模块\n",
    "from torch.utils.data import Dataset, DataLoader # PyTorch深度学习框架中的数据集和数据加载器模块\n",
    "import torchvision.transforms as transforms # PyTorch深度学习框架中的图像预处理模块\n",
    "import torchvision.datasets as datasets # PyTorch深度学习框架中的数据集模块\n",
    "import numpy as np # NumPy科学计算库\n",
    "import pandas as pd # Pandas数据处理库\n",
    "import cv2 # OpenCV计算机视觉库\n",
    "import os # Python内置的操作系统接口模块\n",
    "import random # Python内置的随机数生成模块\n",
    "import matplotlib.pyplot as plt # Matplotlib绘图库\n",
    "from sklearn.metrics import confusion_matrix # Scikit-learn机器学习库中的混淆矩阵模块\n",
    "from sklearn.metrics import accuracy_score # Scikit-learn机器学习库中的准确率模块\n",
    "import itertools # Python内置的迭代器模块\n",
    "import re\n",
    "from PIL import Image"
   ]
  },
  {
   "cell_type": "code",
   "execution_count": null,
   "id": "feb1525e",
   "metadata": {},
   "outputs": [],
   "source": [
    "# 定义超参数\n",
    "batch_size = 64 # 批量大小\n",
    "learning_rate = 0.001 # 学习率\n",
    "num_epochs = 10 # 训练轮数"
   ]
  },
  {
   "cell_type": "code",
   "execution_count": 2,
   "id": "3f2b7aed",
   "metadata": {},
   "outputs": [],
   "source": [
    "# 定义LeNet-5模型\n",
    "class LeNet5(nn.Module):\n",
    "    def __init__(self):\n",
    "        super(LeNet5, self).__init__()\n",
    "        self.conv1 = nn.Conv2d(1, 6, kernel_size=5, stride=1, padding=2) # 第一层卷积层，输入通道数为1，输出通道数为6，卷积核大小为5*5，步长为1，填充为2\n",
    "        self.pool1 = nn.MaxPool2d(kernel_size=2, stride=2) # 第一层池化层，池化核大小为2*2，步长为2\n",
    "        self.conv2 = nn.Conv2d(6, 16, kernel_size=5, stride=1) # 第二层卷积层，输入通道数为6，输出通道数为16，卷积核大小为5*5，步长为1\n",
    "        self.pool2 = nn.MaxPool2d(kernel_size=2, stride=2) # 第二层池化层，池化核大小为2*2，步长为2\n",
    "        self.fc1 = nn.Linear(16*5*5, 120) # 第一层全连接层，输入节点数为16*5*5，输出节点数为120\n",
    "        self.fc2 = nn.Linear(120, 84) # 第二层全连接层，输入节点数为120，输出节点数为84\n",
    "        self.fc3 = nn.Linear(84, 7) # 第三层全连接层，输入节点数为84，输出节点数为7\n",
    "\n",
    "    def forward(self, x):\n",
    "        x = self.pool1(F.relu(self.conv1(x))) # 第一层卷积层+池化层，使用ReLU激活函数\n",
    "        x = self.pool2(F.relu(self.conv2(x))) # 第二层卷积层+池化层，使用ReLU激活函数\n",
    "        x = x.view(-1, 16*5*5) # 将特征图展开成一维向量\n",
    "        x = F.relu(self.fc1(x)) # 第一层全连接层，使用ReLU激活函数\n",
    "        x = F.relu(self.fc2(x)) # 第二层全连接层，使用ReLU激活函数\n",
    "        x = self.fc3(x) # 第三层全连接层，不使用激活函数\n",
    "        return x"
   ]
  },
  {
   "cell_type": "code",
   "execution_count": null,
   "id": "628f922f",
   "metadata": {},
   "outputs": [],
   "source": [
    "# 定义数据集\n",
    "class FaceDataset(Dataset):\n",
    "    def __init__(self, root_dir, transform=None):\n",
    "        self.root_dir = root_dir # 数据集根目录\n",
    "        self.transform = transform # 数据预处理\n",
    "        self.labels = { # 标签字典\n",
    "            'angry': 0,\n",
    "            'disgusted': 1,\n",
    "            'fearful': 2,\n",
    "            'happy': 3,\n",
    "            'neutral': 4,\n",
    "            'sad': 5,\n",
    "            'surprised': 6\n",
    "        }\n",
    "        self.data = self.load_data() # 加载数据\n",
    "\n",
    "    def __len__(self):\n",
    "        return len(self.data)\n",
    "\n",
    "    def __getitem__(self, idx):\n",
    "        img_name, label = self.data[idx]\n",
    "        img_path = os.path.join(self.root_dir, label, img_name)\n",
    "        image = Image.open(img_path).convert('L') # 打开图像并将其转换为灰度图像\n",
    "        if self.transform:\n",
    "            image = self.transform(image) # 数据预处理\n",
    "        return image, label\n",
    "\n",
    "    def load_data(self):\n",
    "        data = []\n",
    "        for label in self.labels.keys():\n",
    "            label_dir = os.path.join(self.root_dir, label)\n",
    "            for img_name in os.listdir(label_dir):\n",
    "                data.append((img_name, self.labels[label]))\n",
    "        return data"
   ]
  },
  {
   "cell_type": "code",
   "execution_count": null,
   "id": "295e3564",
   "metadata": {},
   "outputs": [],
   "source": [
    "# 定义数据预处理\n",
    "transform_train = transforms.Compose([\n",
    "    transforms.RandomHorizontalFlip(), # 随机水平翻转\n",
    "    transforms.RandomCrop(44), # 随机裁剪\n",
    "    transforms.ToTensor(), # 将图像转换为张量\n",
    "    transforms.Normalize((0.5,), (0.5,)) # 标准化\n",
    "])\n",
    "\n",
    "transform_test = transforms.Compose([\n",
    "    transforms.CenterCrop(44), # 中心裁剪\n",
    "    transforms.ToTensor(), # 将图像转换为张量\n",
    "    transforms.Normalize((0.5,), (0.5,)) # 标准化\n",
    "])"
   ]
  },
  {
   "cell_type": "code",
   "execution_count": null,
   "id": "b178d57e",
   "metadata": {},
   "outputs": [],
   "source": [
    "# 定义数据加载器\n",
    "model = LeNet5() # 创建模型\n",
    "train_dataset = FaceDataset('emo/train', transform=transform_train) # 加载训练集\n",
    "test_dataset = FaceDataset('emo/test', transform=transform_test)# 加载测试集\n",
    "train_loader = DataLoader(train_dataset, batch_size=batch_size, shuffle=True, num_workers=4) # 创建训练集数据加载器\n",
    "test_loader = DataLoader(test_dataset, batch_size=batch_size, shuffle=False, num_workers=4) # 创建测试集数据加载器\n"
   ]
  },
  {
   "cell_type": "code",
   "execution_count": null,
   "id": "523dde44",
   "metadata": {},
   "outputs": [],
   "source": [
    "# 定义损失函数和优化器\n",
    "criterion = nn.CrossEntropyLoss() # 定义交叉熵损失函数\n",
    "optimizer = optim.SGD(model.parameters(), lr=learning_rate, momentum=0.9) # 定义随机梯度下降优化器"
   ]
  },
  {
   "cell_type": "code",
   "execution_count": null,
   "id": "18c199b5",
   "metadata": {},
   "outputs": [],
   "source": [
    "# 将模型放到GPU上\n",
    "device = torch.device(\"cuda:0\" if torch.cuda.is_available() else \"cpu\") # 判断是否有GPU可用\n",
    "model.to(device) # 将模型放到GPU上"
   ]
  },
  {
   "cell_type": "code",
   "execution_count": null,
   "id": "adbccb3e",
   "metadata": {},
   "outputs": [],
   "source": [
    "# 定义test函数\n",
    "def test(model, test_loader):\n",
    "    y_true = [] # 存储真实标签\n",
    "    y_pred = [] # 存储预测标签\n",
    "    with torch.no_grad(): # 不需要计算梯度\n",
    "        for images, labels in test_loader: # 遍历测试集\n",
    "            images = images.to(device) # 将图像放到GPU上\n",
    "            labels = labels.to(device) # 将标签放到GPU上\n",
    "            outputs = model(images) # 前向传播\n",
    "            _, predicted = torch.max(outputs.data, 1) # 获取预测结果\n",
    "            y_true += labels.cpu().numpy().tolist() # 将真实标签添加到列表中\n",
    "            y_pred += predicted.cpu().numpy().tolist() # 将预测标签添加到列表中\n",
    "    return y_true, y_pred # 返回真实标签和预测标签"
   ]
  },
  {
   "cell_type": "code",
   "execution_count": null,
   "id": "7312613a",
   "metadata": {},
   "outputs": [],
   "source": [
    "# 训练模型\n",
    "accuracy_list = [0.0] * num_epochs # 初始化准确率列表\n",
    "for epoch in range(num_epochs): # 遍历所有的epoch\n",
    "    model.train() # 将模型设置为训练模式\n",
    "    for i, (images, labels) in enumerate(train_loader): # 遍历训练集\n",
    "        images = images.to(device) # 将图像放到GPU上\n",
    "        labels = labels.to(device) # 将标签放到GPU上\n",
    "\n",
    "        # 前向传播\n",
    "        outputs = model(images) # 前向传播\n",
    "        loss = criterion(outputs, labels) # 计算损失\n",
    "\n",
    "        # 反向传播和优化\n",
    "        optimizer.zero_grad() # 梯度清零\n",
    "        loss.backward() # 反向传播\n",
    "        optimizer.step() # 更新参数\n",
    "\n",
    "        if (i+1) % 100 == 0: # 每100个batch输出一次信息\n",
    "            print('Epoch [{}/{}], Step [{}/{}], Loss: {:.4f}'.format(epoch+1, num_epochs, i+1, len(train_loader), loss.item()))\n",
    "\n",
    "    # 测试模型\n",
    "    model.eval() # 将模型设置为评估模式\n",
    "    y_true, y_pred = test(model, test_loader)\n",
    "    accuracy = accuracy_score(y_true, y_pred) # 计算准确率\n",
    "    accuracy_list[epoch] = accuracy # 将准确率添加到准确率列表中\n",
    "    print('Epoch [{}/{}], Test Accuracy: {:.2f}%'.format(epoch+1, num_epochs, accuracy*100))\n",
    "    print('Confusion Matrix:', confusion_matrix(y_true, y_pred))\n",
    "\n",
    "    # 保存模型\n",
    "    torch.save(model.state_dict(), 'model.pth')"
   ]
  },
  {
   "cell_type": "code",
   "execution_count": null,
   "id": "a02fad41",
   "metadata": {},
   "outputs": [],
   "source": [
    "# 绘制混淆矩阵\n",
    "def plot_confusion_matrix(cm, classes, normalize=False, title='Confusion matrix', cmap=plt.cm.Blues):\n",
    "    \"\"\"\n",
    "    绘制混淆矩阵\n",
    "\n",
    "    参数：\n",
    "    cm：混淆矩阵\n",
    "    classes：类别列表\n",
    "    normalize：是否进行标准化\n",
    "    title：图像标题\n",
    "    cmap：颜色映射表\n",
    "    \"\"\"\n",
    "    if normalize:\n",
    "        cm = cm.astype('float') / cm.sum(axis=1)[:, np.newaxis]\n",
    "        print(\"Normalized confusion matrix\")\n",
    "    else:\n",
    "        print('Confusion matrix, without normalization')\n",
    "\n",
    "    print(cm)\n",
    "\n",
    "    plt.imshow(cm, interpolation='nearest', cmap=cmap)\n",
    "    plt.title(title)\n",
    "    plt.colorbar()\n",
    "    tick_marks = np.arange(len(classes))\n",
    "    plt.xticks(tick_marks, classes, rotation=45)\n",
    "    plt.yticks(tick_marks, classes)\n",
    "\n",
    "    fmt = '.2f' if normalize else 'd'\n",
    "    thresh = cm.max() / 2.\n",
    "    for i, j in itertools.product(range(cm.shape[0]), range(cm.shape[1])):\n",
    "        plt.text(j, i, format(cm[i, j], fmt),\n",
    "                 horizontalalignment=\"center\",\n",
    "                 color=\"white\" if cm[i, j] > thresh else \"black\")\n",
    "\n",
    "    plt.tight_layout()\n",
    "    plt.ylabel('True label')\n",
    "    plt.xlabel('Predicted label')"
   ]
  },
  {
   "cell_type": "code",
   "execution_count": null,
   "id": "858f63ef",
   "metadata": {},
   "outputs": [],
   "source": [
    "# 绘制准确率曲线\n",
    "def plot_accuracy_curve(accuracy_list):\n",
    "    \"\"\"\n",
    "    绘制准确率曲线\n",
    "\n",
    "    参数：\n",
    "    accuracy_list：准确率列表\n",
    "    \"\"\"\n",
    "    for epoch in range(num_epochs):\n",
    "        if accuracy_list[epoch] == 0.0:\n",
    "            y_true, y_pred = test(model, test_loader)\n",
    "            accuracy = accuracy_score(y_true, y_pred)\n",
    "            accuracy_list[epoch] = accuracy\n",
    "    plt.plot(range(num_epochs), accuracy_list, '-o')\n",
    "    plt.xlabel('Epoch')\n",
    "    plt.ylabel('Accuracy')\n",
    "    plt.title('Accuracy Curve')\n",
    "    plt.show()"
   ]
  },
  {
   "cell_type": "code",
   "execution_count": null,
   "id": "15ac52b6",
   "metadata": {},
   "outputs": [],
   "source": [
    "# 加载模型\n",
    "model.load_state_dict(torch.load('model.pth'))"
   ]
  },
  {
   "cell_type": "code",
   "execution_count": null,
   "id": "742340d3",
   "metadata": {},
   "outputs": [],
   "source": [
    "# 测试模型\n",
    "y_true, y_pred = test(model, test_loader)"
   ]
  },
  {
   "cell_type": "code",
   "execution_count": null,
   "id": "ceb26174",
   "metadata": {},
   "outputs": [],
   "source": [
    "# 绘制混淆矩阵\n",
    "cm = confusion_matrix(y_true, y_pred)\n",
    "plot_confusion_matrix(cm, classes=['angry', 'disgusted', 'fearful', 'happy', 'neutral', 'sad', 'surprised'])"
   ]
  },
  {
   "cell_type": "code",
   "execution_count": null,
   "id": "349b87ea",
   "metadata": {},
   "outputs": [],
   "source": [
    "# 绘制准确率曲线\n",
    "plot_accuracy_curve(accuracy_list)"
   ]
  }
 ],
 "metadata": {
  "kernelspec": {
   "display_name": "Python 3 (ipykernel)",
   "language": "python",
   "name": "python3"
  },
  "language_info": {
   "codemirror_mode": {
    "name": "ipython",
    "version": 3
   },
   "file_extension": ".py",
   "mimetype": "text/x-python",
   "name": "python",
   "nbconvert_exporter": "python",
   "pygments_lexer": "ipython3",
   "version": "3.10.9"
  }
 },
 "nbformat": 4,
 "nbformat_minor": 5
}
